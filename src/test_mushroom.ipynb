{
  "nbformat": 4,
  "nbformat_minor": 0,
  "metadata": {
    "colab": {
      "name": "test_mushroom.ipynb",
      "provenance": [],
      "collapsed_sections": [],
      "include_colab_link": true
    },
    "kernelspec": {
      "name": "python3",
      "display_name": "Python 3"
    },
    "language_info": {
      "name": "python"
    },
    "accelerator": "GPU"
  },
  "cells": [
    {
      "cell_type": "markdown",
      "metadata": {
        "id": "view-in-github",
        "colab_type": "text"
      },
      "source": [
        "<a href=\"https://colab.research.google.com/github/naoutix/mushroom_network/blob/main/test_mushroom.ipynb\" target=\"_parent\"><img src=\"https://colab.research.google.com/assets/colab-badge.svg\" alt=\"Open In Colab\"/></a>"
      ]
    },
    {
      "cell_type": "code",
      "metadata": {
        "id": "P59CDD-cMbCA"
      },
      "source": [
        "from tensorflow.python.client import device_lib\n",
        "import keras\n",
        "from keras import layers, models, optimizers, regularizers, Model\n",
        "from keras.layers.convolutional import Conv2D, MaxPooling2D\n",
        "from keras.layers import Input, Dense, Flatten, Dropout, concatenate\n",
        "import pandas as pd\n",
        "import tensorflow as tf\n",
        "import numpy as np\n",
        "from PIL import Image\n",
        "from sklearn.metrics import confusion_matrix\n",
        "\n",
        "import matplotlib.pyplot as plt\n",
        "\n",
        "%matplotlib inline"
      ],
      "execution_count": null,
      "outputs": []
    },
    {
      "cell_type": "code",
      "metadata": {
        "colab": {
          "base_uri": "https://localhost:8080/"
        },
        "id": "95XaXzbWMcWv",
        "outputId": "2c11d656-e402-41c4-de0d-e30a1d0ef31d"
      },
      "source": [
        "!git clone https://github.com/ddahon/mushroom-neural-network.git\n",
        "path = \"./mushroom-neural-network/data/\""
      ],
      "execution_count": null,
      "outputs": [
        {
          "output_type": "stream",
          "text": [
            "fatal: destination path 'mushroom-neural-network' already exists and is not an empty directory.\n"
          ],
          "name": "stdout"
        }
      ]
    },
    {
      "cell_type": "code",
      "metadata": {
        "id": "cX4ibJ4dMgCg"
      },
      "source": [
        "import os\n",
        "import shutil\n",
        "\n",
        "mushrooms_names= [\"agaricus-bisporus\",\n",
        "                  \"amanita-muscaria\",\n",
        "                  \"boletus-edulis\",\n",
        "                  \"cantharellus-cibarius\",\n",
        "                  \"entoloma-sinuatum\",\n",
        "                  \"lactarius-deliciosus\",\n",
        "                  \"lycoperdon-perlatum\",\n",
        "                  \"macrolepiota-procera\",\n",
        "                  \"morchella-esculenta\",\n",
        "                  \"rubroboletus-satanas\"]\n",
        "image_size = 150\n",
        "length_train = 0\n",
        "nb_agents = 5\n",
        "\n",
        "#Images d'entrainement\n",
        "train_filenames= []\n",
        "for name in mushrooms_names:\n",
        "  list_filenames = os.listdir(path + \"train/\" + name)\n",
        "  train_filenames.append(list_filenames)\n",
        "  length_train += len(list_filenames)\n",
        "\n",
        "if not os.path.exists(path + \"train/train\"):\n",
        "  os.mkdir(path + \"train/train\")\n",
        "for j in range(nb_agents):\n",
        "  if not os.path.exists(path + \"train/train\"+str(j)):\n",
        "    os.mkdir(path + \"train/train\"+str(j))\n",
        "\n",
        "path_train = path + \"train/\"\n",
        "j=0\n",
        "for i in range(10):\n",
        "  for filename in train_filenames[i]:\n",
        "    img = Image.open(path_train+mushrooms_names[i]+\"/\"+filename).convert('RGB')\n",
        "    img = img.resize((image_size, image_size))\n",
        "    img.save(path_train+\"train/\"+filename)\n",
        "    img.save(path_train+\"train\"+str(j%nb_agents)+\"/\"+filename)\n",
        "    img.save(path_train+\"train\"+str(i//2)+\"/\"+filename)\n",
        "    j+=1\n",
        "\n",
        "train_filenames = os.listdir(path + \"train/train\")\n",
        "train_categories=[]\n",
        "for filename in train_filenames:\n",
        "  category = filename.split('_')[0]\n",
        "  train_categories.append(mushrooms_names.index(category))\n",
        "\n",
        "train_agents_filenames = []\n",
        "train_agents_categories = []\n",
        "for j in range(nb_agents):\n",
        "  train_agents_filenames.append(os.listdir(path + \"train/train\"+str(j)))\n",
        "  train_agent_j_categories = []\n",
        "  for filename in train_agents_filenames[j]:\n",
        "    category = filename.split('_')[0]\n",
        "    train_agent_j_categories.append(mushrooms_names.index(category))\n",
        "  train_agents_categories.append(train_agent_j_categories)\n",
        "\n",
        "#Images de validation\n",
        "validation_filenames= []\n",
        "for name in mushrooms_names:\n",
        "  validation_filenames.append(os.listdir(path + \"validation/\" + name))\n",
        "\n",
        "if not os.path.exists(path + \"validation/validation\"):\n",
        "  os.mkdir(path + \"validation/validation\")\n",
        "\n",
        "path_validation = path + \"validation/\"\n",
        "for i in range(10):\n",
        "  for filename in validation_filenames[i]:\n",
        "    img = Image.open(path_validation+mushrooms_names[i]+\"/\"+filename).convert('RGB')\n",
        "    img = img.resize((image_size, image_size))\n",
        "    img.save(path_validation+\"validation/\"+filename)\n",
        "\n",
        "validation_filenames = os.listdir(path + \"validation/validation\")\n",
        "validation_categories=[]\n",
        "for filename in validation_filenames:\n",
        "    category = filename.split('_')[0]\n",
        "    validation_categories.append(mushrooms_names.index(category))\n",
        "\n",
        "#Images de test\n",
        "test_filenames= []\n",
        "for name in mushrooms_names:\n",
        "  test_filenames.append(os.listdir(path + \"test/\" + name))\n",
        "\n",
        "if not os.path.exists(path + \"test/test\"):\n",
        "  os.mkdir(path + \"test/test\")\n",
        "\n",
        "path_test = path + \"test/\"\n",
        "for i in range(10):\n",
        "  for filename in test_filenames[i]:\n",
        "    img = Image.open(path_test+mushrooms_names[i]+\"/\"+filename).convert('RGB')\n",
        "    img = img.resize((image_size, image_size))\n",
        "    img.save(path_test+\"test/\"+filename)\n",
        "\n",
        "test_filenames = os.listdir(path + \"test/test\")\n",
        "test_categories=[]\n",
        "for filename in test_filenames:\n",
        "    category = filename.split('_')[0]\n",
        "    test_categories.append(mushrooms_names.index(category))"
      ],
      "execution_count": null,
      "outputs": []
    },
    {
      "cell_type": "code",
      "metadata": {
        "id": "uAUOslwNMjUV"
      },
      "source": [
        "#Images d'entrainement\n",
        "train_df = pd.DataFrame({\n",
        "    'filename': train_filenames,\n",
        "    'category': train_categories\n",
        "})\n",
        "\n",
        "train_agents_df = []\n",
        "for j in range(nb_agents):\n",
        "  train_agents_df.append(\n",
        "    pd.DataFrame({\n",
        "      'filename': train_agents_filenames[j],\n",
        "      'category': train_agents_categories[j]\n",
        "    })\n",
        "  )\n",
        "\n",
        "\n",
        "#Images de validation\n",
        "validation_df = pd.DataFrame({\n",
        "    'filename': validation_filenames,\n",
        "    'category': validation_categories\n",
        "})\n",
        "\n",
        "\n",
        "#Images de test\n",
        "test_df = pd.DataFrame({\n",
        "    'filename': test_filenames,\n",
        "    'category': test_categories\n",
        "})\n",
        "\n",
        "\n",
        "train_df['category'] = train_df['category'].astype(str)\n",
        "for j in range(nb_agents):\n",
        "  train_agents_df[j]['category'] = train_agents_df[j]['category'].astype(str)\n",
        "\n",
        "validation_df['category'] = validation_df['category'].astype(str)\n",
        "test_df['category'] = test_df['category'].astype(str)\n",
        "\n",
        "total_train = train_df.shape[0]\n",
        "total_validate = validation_df.shape[0]"
      ],
      "execution_count": null,
      "outputs": []
    },
    {
      "cell_type": "code",
      "metadata": {
        "colab": {
          "base_uri": "https://localhost:8080/"
        },
        "id": "3HmzJ1UFMl67",
        "outputId": "1b1a4f1c-2a96-4ae7-8943-886d320bdf02"
      },
      "source": [
        "from keras.preprocessing.image import ImageDataGenerator\n",
        "\n",
        "batch_size = 16\n",
        "\n",
        "\n",
        "#Images d'entrainement\n",
        "train_datagen=ImageDataGenerator(rescale=1./255)\n",
        "train_generator = train_datagen.flow_from_dataframe(\n",
        "    train_df, \n",
        "    path + \"train/train/\",\n",
        "    x_col='filename',\n",
        "    y_col='category',\n",
        "    target_size=(image_size,image_size),\n",
        "    class_mode='categorical',\n",
        "    batch_size=batch_size\n",
        ")\n",
        "\n",
        "train_agents_generator = []\n",
        "for j in range(nb_agents):\n",
        "  train_agents_generator.append(\n",
        "    train_datagen.flow_from_dataframe(\n",
        "      train_agents_df[j], \n",
        "      path + \"train/train\"+str(j)+\"/\",\n",
        "      x_col='filename',\n",
        "      y_col='category',\n",
        "      target_size=(image_size,image_size),\n",
        "      class_mode='categorical',\n",
        "      batch_size=batch_size\n",
        "    )\n",
        "  )\n",
        "\n",
        "#Images de validation\n",
        "validation_datagen=ImageDataGenerator(rescale=1./255)\n",
        "validation_generator = validation_datagen.flow_from_dataframe(\n",
        "    validation_df, \n",
        "    path + \"validation/validation\", \n",
        "    x_col='filename',\n",
        "    y_col='category',\n",
        "    class_mode='categorical',\n",
        "    target_size=(image_size, image_size),\n",
        "    batch_size=batch_size\n",
        ")\n",
        "\n",
        "#Images de test\n",
        "test_datagen=ImageDataGenerator(rescale=1./255)\n",
        "test_generator = test_datagen.flow_from_dataframe(\n",
        "    test_df, \n",
        "    path + \"test/test\", \n",
        "    x_col='filename',\n",
        "    y_col='category',\n",
        "    class_mode='categorical',\n",
        "    shuffle = False,\n",
        "    target_size=(image_size, image_size),\n",
        "    batch_size=batch_size\n",
        ")"
      ],
      "execution_count": null,
      "outputs": [
        {
          "output_type": "stream",
          "text": [
            "Found 500 validated image filenames belonging to 10 classes.\n",
            "Found 180 validated image filenames belonging to 10 classes.\n",
            "Found 180 validated image filenames belonging to 10 classes.\n",
            "Found 180 validated image filenames belonging to 10 classes.\n",
            "Found 180 validated image filenames belonging to 10 classes.\n",
            "Found 180 validated image filenames belonging to 10 classes.\n",
            "Found 250 validated image filenames belonging to 10 classes.\n",
            "Found 250 validated image filenames belonging to 10 classes.\n"
          ],
          "name": "stdout"
        }
      ]
    },
    {
      "cell_type": "code",
      "metadata": {
        "colab": {
          "base_uri": "https://localhost:8080/"
        },
        "id": "wlDztpF1UTDV",
        "outputId": "7443b87c-0620-4a03-c163-dabbcccc4806"
      },
      "source": [
        "train_datagen_2 = ImageDataGenerator(\n",
        "    rotation_range=40,\n",
        "    rescale=1./255,\n",
        "    width_shift_range=0.2,\n",
        "    height_shift_range=0.2,\n",
        "    shear_range=0.2,\n",
        "    zoom_range=0.2,\n",
        "    horizontal_flip=True,)\n",
        "\n",
        "train_generator_augmented = train_datagen_2.flow_from_dataframe(\n",
        "    train_df, \n",
        "    path + 'train/train/',\n",
        "    x_col='filename',\n",
        "    y_col='category',\n",
        "    target_size=(image_size,image_size),\n",
        "    class_mode='categorical',\n",
        "    batch_size=batch_size\n",
        ")\n",
        "\n",
        "train_agents_generator_augmented = []\n",
        "for j in range(nb_agents):\n",
        "  train_agents_generator_augmented.append(\n",
        "    train_datagen_2.flow_from_dataframe(\n",
        "      train_agents_df[j], \n",
        "      path + \"train/train\"+str(j)+\"/\",\n",
        "      x_col='filename',\n",
        "      y_col='category',\n",
        "      target_size=(image_size,image_size),\n",
        "      class_mode='categorical',\n",
        "      batch_size=batch_size\n",
        "    )\n",
        "  )"
      ],
      "execution_count": null,
      "outputs": [
        {
          "output_type": "stream",
          "text": [
            "Found 500 validated image filenames belonging to 10 classes.\n",
            "Found 180 validated image filenames belonging to 10 classes.\n",
            "Found 180 validated image filenames belonging to 10 classes.\n",
            "Found 180 validated image filenames belonging to 10 classes.\n",
            "Found 180 validated image filenames belonging to 10 classes.\n",
            "Found 180 validated image filenames belonging to 10 classes.\n"
          ],
          "name": "stdout"
        }
      ]
    },
    {
      "cell_type": "markdown",
      "metadata": {
        "id": "wwIKx9fEMmuB"
      },
      "source": [
        "## Test"
      ]
    },
    {
      "cell_type": "code",
      "metadata": {
        "colab": {
          "base_uri": "https://localhost:8080/"
        },
        "id": "Ra4OIEJYUw1D",
        "outputId": "9e4fa340-c635-4d55-e5da-7d19447ad3dc"
      },
      "source": [
        "from keras.applications import VGG16\n",
        "\n",
        "conv_base = VGG16(weights='imagenet', # On utilise les poids du réseau déjà pré-entrainé sur la base de données ImageNet\n",
        "                  include_top=False, # On ne conserve pas la partie Dense du réseau originel\n",
        "                  input_shape=(150, 150, 3))\n",
        "conv_base.trainable = False\n",
        "\n",
        "lamb = .0\n",
        "\n",
        "dense_agents = []\n",
        "model_agents = []\n",
        "history_agents = []\n",
        "for j in range(nb_agents):\n",
        "  input_layer = Input((image_size, image_size, 3))\n",
        "  conv1 = conv_base(input_layer)\n",
        "  flat1 = Flatten()(conv1)\n",
        "\n",
        "  dense_agents.append(models.Sequential())\n",
        "  dense_agents[j].add(layers.Dense(50, activation='relu', kernel_regularizer=regularizers.l2(lamb)))\n",
        "  dense_agents[j].add(layers.Dense(60, activation='relu', kernel_regularizer=regularizers.l2(lamb)))\n",
        "  dense_agents[j].add(layers.Dense(10, kernel_regularizer=regularizers.l2(lamb)))\n",
        "\n",
        "  out_dense_agents = dense_agents[j](flat1)\n",
        "  output_layer = layers.Activation('softmax')(out_dense_agents)\n",
        "\n",
        "  model_agents.append(Model(input_layer, output_layer))\n",
        "\n",
        "  model_agents[j].compile(loss='categorical_crossentropy',\n",
        "              optimizer=optimizers.Adam(lr=3e-4),\n",
        "              metrics=['acc'])\n",
        "\n",
        "  history_agents.append(\n",
        "      model_agents[j].fit(train_agents_generator_augmented[j],\n",
        "                          validation_data=validation_generator,\n",
        "                          epochs=10,\n",
        "                          )\n",
        "  )"
      ],
      "execution_count": null,
      "outputs": [
        {
          "output_type": "stream",
          "text": [
            "Epoch 1/10\n",
            "12/12 [==============================] - 3s 183ms/step - loss: 2.2382 - acc: 0.1782 - val_loss: 2.5558 - val_acc: 0.1320\n",
            "Epoch 2/10\n",
            "12/12 [==============================] - 2s 151ms/step - loss: 2.0108 - acc: 0.4126 - val_loss: 2.4335 - val_acc: 0.1880\n",
            "Epoch 3/10\n",
            "12/12 [==============================] - 2s 157ms/step - loss: 1.7771 - acc: 0.5112 - val_loss: 2.3243 - val_acc: 0.1840\n",
            "Epoch 4/10\n",
            "12/12 [==============================] - 2s 155ms/step - loss: 1.5348 - acc: 0.5567 - val_loss: 2.3001 - val_acc: 0.1920\n",
            "Epoch 5/10\n",
            "12/12 [==============================] - 2s 153ms/step - loss: 1.4538 - acc: 0.5494 - val_loss: 2.1902 - val_acc: 0.2480\n",
            "Epoch 6/10\n",
            "12/12 [==============================] - 2s 154ms/step - loss: 1.4027 - acc: 0.5893 - val_loss: 2.0439 - val_acc: 0.2560\n",
            "Epoch 7/10\n",
            "12/12 [==============================] - 2s 150ms/step - loss: 1.3094 - acc: 0.5651 - val_loss: 1.9444 - val_acc: 0.3120\n",
            "Epoch 8/10\n",
            "12/12 [==============================] - 2s 154ms/step - loss: 1.1088 - acc: 0.6316 - val_loss: 1.8480 - val_acc: 0.3120\n",
            "Epoch 9/10\n",
            "12/12 [==============================] - 2s 154ms/step - loss: 1.0111 - acc: 0.6805 - val_loss: 1.7780 - val_acc: 0.3400\n",
            "Epoch 10/10\n",
            "12/12 [==============================] - 2s 153ms/step - loss: 0.8839 - acc: 0.7363 - val_loss: 1.7695 - val_acc: 0.3440\n",
            "Epoch 1/10\n",
            "12/12 [==============================] - 3s 173ms/step - loss: 2.3481 - acc: 0.1799 - val_loss: 2.5880 - val_acc: 0.1000\n",
            "Epoch 2/10\n",
            "12/12 [==============================] - 2s 151ms/step - loss: 1.8721 - acc: 0.3218 - val_loss: 2.4028 - val_acc: 0.1760\n",
            "Epoch 3/10\n",
            "12/12 [==============================] - 2s 159ms/step - loss: 1.8712 - acc: 0.4256 - val_loss: 2.4182 - val_acc: 0.1240\n",
            "Epoch 4/10\n",
            "12/12 [==============================] - 2s 152ms/step - loss: 1.7341 - acc: 0.4414 - val_loss: 2.3416 - val_acc: 0.1840\n",
            "Epoch 5/10\n",
            "12/12 [==============================] - 2s 154ms/step - loss: 1.7811 - acc: 0.4306 - val_loss: 2.1664 - val_acc: 0.2160\n",
            "Epoch 6/10\n",
            "12/12 [==============================] - 2s 151ms/step - loss: 1.5667 - acc: 0.5133 - val_loss: 2.1087 - val_acc: 0.3040\n",
            "Epoch 7/10\n",
            "12/12 [==============================] - 2s 149ms/step - loss: 1.5960 - acc: 0.4889 - val_loss: 2.1064 - val_acc: 0.3440\n",
            "Epoch 8/10\n",
            "12/12 [==============================] - 2s 151ms/step - loss: 1.3004 - acc: 0.5956 - val_loss: 1.9415 - val_acc: 0.3680\n",
            "Epoch 9/10\n",
            "12/12 [==============================] - 2s 150ms/step - loss: 1.3221 - acc: 0.6373 - val_loss: 1.9245 - val_acc: 0.3680\n",
            "Epoch 10/10\n",
            "12/12 [==============================] - 2s 149ms/step - loss: 1.2926 - acc: 0.6835 - val_loss: 2.0279 - val_acc: 0.3360\n",
            "Epoch 1/10\n",
            "12/12 [==============================] - 3s 205ms/step - loss: 2.1934 - acc: 0.1659 - val_loss: 2.4407 - val_acc: 0.1360\n",
            "Epoch 2/10\n",
            "12/12 [==============================] - 2s 153ms/step - loss: 1.9078 - acc: 0.4187 - val_loss: 2.3325 - val_acc: 0.1480\n",
            "Epoch 3/10\n",
            "12/12 [==============================] - 2s 149ms/step - loss: 1.7374 - acc: 0.5064 - val_loss: 2.2785 - val_acc: 0.1600\n",
            "Epoch 4/10\n",
            "12/12 [==============================] - 2s 158ms/step - loss: 1.7145 - acc: 0.4525 - val_loss: 2.2169 - val_acc: 0.2000\n",
            "Epoch 5/10\n",
            "12/12 [==============================] - 2s 148ms/step - loss: 1.6844 - acc: 0.4398 - val_loss: 2.1225 - val_acc: 0.2200\n",
            "Epoch 6/10\n",
            "12/12 [==============================] - 2s 148ms/step - loss: 1.6252 - acc: 0.4669 - val_loss: 2.1756 - val_acc: 0.2320\n",
            "Epoch 7/10\n",
            "12/12 [==============================] - 2s 151ms/step - loss: 1.4713 - acc: 0.5425 - val_loss: 2.0936 - val_acc: 0.2240\n",
            "Epoch 8/10\n",
            "12/12 [==============================] - 2s 148ms/step - loss: 1.3131 - acc: 0.5539 - val_loss: 1.9189 - val_acc: 0.3080\n",
            "Epoch 9/10\n",
            "12/12 [==============================] - 2s 155ms/step - loss: 1.3555 - acc: 0.5954 - val_loss: 1.9945 - val_acc: 0.2920\n",
            "Epoch 10/10\n",
            "12/12 [==============================] - 2s 148ms/step - loss: 1.2375 - acc: 0.5804 - val_loss: 1.7794 - val_acc: 0.3800\n",
            "Epoch 1/10\n",
            "12/12 [==============================] - 3s 170ms/step - loss: 2.2308 - acc: 0.0885 - val_loss: 2.3899 - val_acc: 0.1160\n",
            "Epoch 2/10\n",
            "12/12 [==============================] - 2s 153ms/step - loss: 1.9997 - acc: 0.3716 - val_loss: 2.4509 - val_acc: 0.1600\n",
            "Epoch 3/10\n",
            "12/12 [==============================] - 2s 148ms/step - loss: 1.8783 - acc: 0.4624 - val_loss: 2.3750 - val_acc: 0.1640\n",
            "Epoch 4/10\n",
            "12/12 [==============================] - 2s 148ms/step - loss: 1.8556 - acc: 0.4753 - val_loss: 2.3716 - val_acc: 0.1800\n",
            "Epoch 5/10\n",
            "12/12 [==============================] - 2s 155ms/step - loss: 1.7437 - acc: 0.4450 - val_loss: 2.2935 - val_acc: 0.1800\n",
            "Epoch 6/10\n",
            "12/12 [==============================] - 2s 150ms/step - loss: 1.5857 - acc: 0.5045 - val_loss: 2.1936 - val_acc: 0.2000\n",
            "Epoch 7/10\n",
            "12/12 [==============================] - 2s 150ms/step - loss: 1.4268 - acc: 0.5834 - val_loss: 2.1734 - val_acc: 0.2120\n",
            "Epoch 8/10\n",
            "12/12 [==============================] - 2s 149ms/step - loss: 1.3207 - acc: 0.6263 - val_loss: 2.1095 - val_acc: 0.2400\n",
            "Epoch 9/10\n",
            "12/12 [==============================] - 2s 159ms/step - loss: 1.3288 - acc: 0.6035 - val_loss: 2.0016 - val_acc: 0.3040\n",
            "Epoch 10/10\n",
            "12/12 [==============================] - 2s 149ms/step - loss: 1.2480 - acc: 0.6404 - val_loss: 2.0598 - val_acc: 0.2840\n",
            "Epoch 1/10\n",
            "12/12 [==============================] - 3s 174ms/step - loss: 2.0819 - acc: 0.3543 - val_loss: 2.3877 - val_acc: 0.1560\n",
            "Epoch 2/10\n",
            "12/12 [==============================] - 2s 153ms/step - loss: 1.8283 - acc: 0.3816 - val_loss: 2.2869 - val_acc: 0.1840\n",
            "Epoch 3/10\n",
            "12/12 [==============================] - 2s 150ms/step - loss: 1.4803 - acc: 0.5859 - val_loss: 2.1951 - val_acc: 0.1840\n",
            "Epoch 4/10\n",
            "12/12 [==============================] - 2s 152ms/step - loss: 1.4438 - acc: 0.5412 - val_loss: 2.1333 - val_acc: 0.1920\n",
            "Epoch 5/10\n",
            "12/12 [==============================] - 2s 149ms/step - loss: 1.5531 - acc: 0.4978 - val_loss: 1.9838 - val_acc: 0.2080\n",
            "Epoch 6/10\n",
            "12/12 [==============================] - 2s 148ms/step - loss: 1.3237 - acc: 0.5625 - val_loss: 1.9714 - val_acc: 0.2280\n",
            "Epoch 7/10\n",
            "12/12 [==============================] - 2s 153ms/step - loss: 1.1863 - acc: 0.5683 - val_loss: 1.8855 - val_acc: 0.2880\n",
            "Epoch 8/10\n",
            "12/12 [==============================] - 2s 156ms/step - loss: 1.1814 - acc: 0.6512 - val_loss: 1.9392 - val_acc: 0.2320\n",
            "Epoch 9/10\n",
            "12/12 [==============================] - 2s 148ms/step - loss: 1.0367 - acc: 0.6358 - val_loss: 1.7020 - val_acc: 0.3720\n",
            "Epoch 10/10\n",
            "12/12 [==============================] - 2s 150ms/step - loss: 1.0166 - acc: 0.7363 - val_loss: 1.6862 - val_acc: 0.3880\n"
          ],
          "name": "stdout"
        }
      ]
    },
    {
      "cell_type": "code",
      "metadata": {
        "id": "W7zLPISjaYrE"
      },
      "source": [
        "VGG_input_layer = Input((image_size, image_size, 3))\n",
        "conv1 = conv_base(VGG_input_layer)\n",
        "(_, h, w, d) = conv1.shape\n",
        "input_layer = Input((h, w, d))\n",
        "flat1 = Flatten()(input_layer)\n",
        "\n",
        "out_agents = []\n",
        "for j in range(nb_agents):\n",
        "  out_agent = dense_agents[j](flat1)\n",
        "  relu_activation = layers.Activation('relu')(out_agent)\n",
        "  out_agents.append(relu_activation)\n",
        "merge = concatenate(out_agents)\n",
        "output_layer = Flatten()(merge)\n",
        "\n",
        "agents_pool = Model(input_layer, output_layer)"
      ],
      "execution_count": null,
      "outputs": []
    },
    {
      "cell_type": "code",
      "metadata": {
        "colab": {
          "base_uri": "https://localhost:8080/"
        },
        "id": "uMzk0XtWdXOx",
        "outputId": "0fcceee3-e220-4d46-cc05-817656da6ec3"
      },
      "source": [
        "lamb =.0\n",
        "\n",
        "model = models.Sequential()\n",
        "model.add(conv_base)\n",
        "model.add(agents_pool)\n",
        "model.add(layers.Dense(512, activation='relu', kernel_regularizer=regularizers.l2(lamb)))\n",
        "# model.add(layers.Dense(256, activation='relu', kernel_regularizer=regularizers.l2(lamb)))\n",
        "model.add(layers.Dense(10, activation='softmax', kernel_regularizer=regularizers.l2(lamb)))\n",
        "\n",
        "conv_base.trainable = False\n",
        "agents_pool.trainable = False\n",
        "\n",
        "model.compile(loss='categorical_crossentropy',\n",
        "              optimizer=optimizers.Adam(lr=3e-4),\n",
        "              metrics=['acc'])\n",
        "\n",
        "history = model.fit(train_generator_augmented, \n",
        "                    validation_data=validation_generator,\n",
        "                    epochs=5,\n",
        "                    )"
      ],
      "execution_count": null,
      "outputs": [
        {
          "output_type": "stream",
          "text": [
            "Epoch 1/5\n",
            "32/32 [==============================] - 5s 129ms/step - loss: 2.1498 - acc: 0.2482 - val_loss: 1.7948 - val_acc: 0.6000\n",
            "Epoch 2/5\n",
            "32/32 [==============================] - 4s 118ms/step - loss: 1.6935 - acc: 0.6179 - val_loss: 1.4868 - val_acc: 0.6640\n",
            "Epoch 3/5\n",
            "32/32 [==============================] - 4s 116ms/step - loss: 1.3707 - acc: 0.7007 - val_loss: 1.2762 - val_acc: 0.6720\n",
            "Epoch 4/5\n",
            "32/32 [==============================] - 4s 117ms/step - loss: 1.2120 - acc: 0.6971 - val_loss: 1.1274 - val_acc: 0.6800\n",
            "Epoch 5/5\n",
            "32/32 [==============================] - 4s 115ms/step - loss: 1.0834 - acc: 0.6660 - val_loss: 1.0250 - val_acc: 0.7080\n"
          ],
          "name": "stdout"
        }
      ]
    },
    {
      "cell_type": "code",
      "metadata": {
        "colab": {
          "base_uri": "https://localhost:8080/"
        },
        "id": "UmkzoZBWb55x",
        "outputId": "3f9fd2b2-0383-48da-c1fc-b95f52fe4cb2"
      },
      "source": [
        "conv_base.trainable = True\n",
        "\n",
        "model.compile(loss='categorical_crossentropy',\n",
        "              optimizer=optimizers.Adam(lr=1e-5),\n",
        "              metrics=['acc'])\n",
        "\n",
        "history = model.fit(train_generator_augmented, \n",
        "                    validation_data=validation_generator,\n",
        "                    epochs=7,\n",
        "                    )"
      ],
      "execution_count": null,
      "outputs": [
        {
          "output_type": "stream",
          "text": [
            "Epoch 1/7\n",
            "32/32 [==============================] - 6s 161ms/step - loss: 0.9153 - acc: 0.7162 - val_loss: 0.7324 - val_acc: 0.7560\n",
            "Epoch 2/7\n",
            "32/32 [==============================] - 5s 150ms/step - loss: 0.6895 - acc: 0.7658 - val_loss: 0.6366 - val_acc: 0.7840\n",
            "Epoch 3/7\n",
            "32/32 [==============================] - 5s 151ms/step - loss: 0.5539 - acc: 0.7985 - val_loss: 0.5201 - val_acc: 0.8320\n",
            "Epoch 4/7\n",
            "32/32 [==============================] - 5s 153ms/step - loss: 0.3878 - acc: 0.8684 - val_loss: 0.5478 - val_acc: 0.8040\n",
            "Epoch 5/7\n",
            "32/32 [==============================] - 5s 153ms/step - loss: 0.4118 - acc: 0.8701 - val_loss: 0.5002 - val_acc: 0.8120\n",
            "Epoch 6/7\n",
            "32/32 [==============================] - 5s 151ms/step - loss: 0.3370 - acc: 0.8822 - val_loss: 0.4607 - val_acc: 0.8600\n",
            "Epoch 7/7\n",
            "32/32 [==============================] - 5s 151ms/step - loss: 0.3931 - acc: 0.8645 - val_loss: 0.4256 - val_acc: 0.8680\n"
          ],
          "name": "stdout"
        }
      ]
    },
    {
      "cell_type": "code",
      "metadata": {
        "colab": {
          "base_uri": "https://localhost:8080/"
        },
        "id": "LIWwVMHZ4ars",
        "outputId": "51ff529d-8dd3-4d49-9675-61e55bbd0292"
      },
      "source": [
        "agents_pool.trainable = True\n",
        "\n",
        "model.compile(loss='categorical_crossentropy',\n",
        "              optimizer=optimizers.Adam(lr=1e-5),\n",
        "              metrics=['acc'])\n",
        "\n",
        "history = model.fit(train_generator_augmented, \n",
        "                    validation_data=validation_generator,\n",
        "                    epochs=5,\n",
        "                    )"
      ],
      "execution_count": null,
      "outputs": [
        {
          "output_type": "stream",
          "text": [
            "Epoch 1/5\n",
            "32/32 [==============================] - 6s 131ms/step - loss: 0.1470 - acc: 0.9575 - val_loss: 0.3833 - val_acc: 0.8720\n",
            "Epoch 2/5\n",
            "32/32 [==============================] - 4s 117ms/step - loss: 0.2245 - acc: 0.9193 - val_loss: 0.3808 - val_acc: 0.8800\n",
            "Epoch 3/5\n",
            "32/32 [==============================] - 4s 116ms/step - loss: 0.1717 - acc: 0.9354 - val_loss: 0.3637 - val_acc: 0.8680\n",
            "Epoch 4/5\n",
            "32/32 [==============================] - 4s 117ms/step - loss: 0.1212 - acc: 0.9569 - val_loss: 0.3634 - val_acc: 0.8880\n",
            "Epoch 5/5\n",
            "32/32 [==============================] - 4s 117ms/step - loss: 0.1032 - acc: 0.9796 - val_loss: 0.3711 - val_acc: 0.8920\n"
          ],
          "name": "stdout"
        }
      ]
    },
    {
      "cell_type": "markdown",
      "metadata": {
        "id": "6_5b5f3JiJWL"
      },
      "source": [
        "## Anayse des resultats"
      ]
    },
    {
      "cell_type": "code",
      "metadata": {
        "id": "CfSZAX-du1cm"
      },
      "source": [
        "def plot_training_analysis():\n",
        "  acc = history.history['acc']\n",
        "  val_acc = history.history['val_acc']\n",
        "  loss = history.history['loss']\n",
        "  val_loss = history.history['val_loss']\n",
        "\n",
        "  epochs = range(len(acc))\n",
        "\n",
        "  plt.plot(epochs, acc, 'b', linestyle=\"--\",label='Training acc')\n",
        "  plt.plot(epochs, val_acc, 'g', label='Validation acc')\n",
        "  plt.title('Training and validation accuracy')\n",
        "  plt.legend()\n",
        "\n",
        "  plt.figure()\n",
        "\n",
        "  plt.plot(epochs, loss, 'b', linestyle=\"--\",label='Training loss')\n",
        "  plt.plot(epochs, val_loss,'g', label='Validation loss')\n",
        "  plt.title('Training and validation loss')\n",
        "  plt.legend()\n",
        "\n",
        "  plt.show()"
      ],
      "execution_count": null,
      "outputs": []
    },
    {
      "cell_type": "code",
      "metadata": {
        "id": "X18EA8Kou5Ad",
        "colab": {
          "base_uri": "https://localhost:8080/",
          "height": 545
        },
        "outputId": "4ed076c2-cdf8-4d85-eb13-ac1b684c1756"
      },
      "source": [
        "plot_training_analysis()"
      ],
      "execution_count": null,
      "outputs": [
        {
          "output_type": "display_data",
          "data": {
            "image/png": "[encoded data removed]",
            "text/plain": [
              "<Figure size 432x288 with 1 Axes>"
            ]
          },
          "metadata": {
            "tags": [],
            "needs_background": "light"
          }
        },
        {
          "output_type": "display_data",
          "data": {
            "image/png": "[encoded data removed]",
            "text/plain": [
              "<Figure size 432x288 with 1 Axes>"
            ]
          },
          "metadata": {
            "tags": [],
            "needs_background": "light"
          }
        }
      ]
    },
    {
      "cell_type": "code",
      "metadata": {
        "colab": {
          "base_uri": "https://localhost:8080/",
          "height": 847
        },
        "id": "OYqKCOMYh29P",
        "outputId": "f11eab98-232b-4610-9bf9-725fd5a6589b"
      },
      "source": [
        "pred=model.predict(test_generator)\n",
        "predicted_class_indices=np.argmax(pred,axis=1)\n",
        "scores = model.evaluate(test_generator, verbose=0)\n",
        "print(\"%s: %.2f%%\" % (model.metrics_names[0], scores[0]*100))\n",
        "print(\"%s: %.2f%%\" % (model.metrics_names[1], scores[1]*100))\n",
        "print(\"Confusion matrix\")\n",
        "cm = confusion_matrix(test_generator.classes, predicted_class_indices)\n",
        "print(cm)\n",
        "precision=[]\n",
        "for i in range(10):\n",
        "  precision.append(100 * cm[i][i]/sum(cm[:,i]))\n",
        "\n",
        "fig = plt.figure(1, figsize=(20, 10))\n",
        "plt.bar(mushrooms_names, precision)\n",
        "plt.axis([0, 10, 0, 101])\n",
        "plt.ylabel('Taux de precision(%)')\n",
        "print(\"Pourcentage de precision de chaque classe:\")\n",
        "print(precision)"
      ],
      "execution_count": null,
      "outputs": [
        {
          "output_type": "stream",
          "text": [
            "loss: 49.52%\n",
            "acc: 84.40%\n",
            "Confusion matrix\n",
            "[[20  0  2  1  1  1  0  0  0  0]\n",
            " [ 0 24  0  0  0  1  0  0  0  0]\n",
            " [ 0  0 23  0  1  1  0  0  0  0]\n",
            " [ 0  0  0 21  0  4  0  0  0  0]\n",
            " [ 3  0  0  0 16  3  0  2  0  1]\n",
            " [ 3  0  1  1  0 19  0  1  0  0]\n",
            " [ 3  0  0  0  1  0 20  1  0  0]\n",
            " [ 0  1  1  0  0  0  1 22  0  0]\n",
            " [ 0  1  1  0  0  0  0  0 23  0]\n",
            " [ 0  0  0  0  2  0  0  0  0 23]]\n",
            "Pourcentage de precision de chaque classe:\n",
            "[68.96551724137932, 92.3076923076923, 82.14285714285714, 91.30434782608695, 76.19047619047619, 65.51724137931035, 95.23809523809524, 84.61538461538461, 100.0, 95.83333333333333]\n"
          ],
          "name": "stdout"
        },
        {
          "output_type": "display_data",
          "data": {
            "image/png": "[encoded data removed]",
            "text/plain": [
              "<Figure size 1440x720 with 1 Axes>"
            ]
          },
          "metadata": {
            "tags": [],
            "needs_background": "light"
          }
        }
      ]
    }
  ]
}